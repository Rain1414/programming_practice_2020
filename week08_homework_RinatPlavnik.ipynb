{
 "cells": [
  {
   "cell_type": "code",
   "execution_count": 1,
   "metadata": {},
   "outputs": [
    {
     "ename": "SyntaxError",
     "evalue": "invalid syntax (<ipython-input-1-72ab05e1ca2c>, line 2)",
     "output_type": "error",
     "traceback": [
      "\u001b[1;36m  File \u001b[1;32m\"<ipython-input-1-72ab05e1ca2c>\"\u001b[1;36m, line \u001b[1;32m2\u001b[0m\n\u001b[1;33m    Упражнение 1\u001b[0m\n\u001b[1;37m               ^\u001b[0m\n\u001b[1;31mSyntaxError\u001b[0m\u001b[1;31m:\u001b[0m invalid syntax\n"
     ]
    }
   ],
   "source": [
    "\n",
    "\n",
    "\n",
    "\n",
    "\n",
    "\n",
    "\n",
    "Упражнение 9\n",
    "Напишите функцию, которая возвращает $n \\times m$ целочисленную матрицу с заданным значением на границах матрицы и с заданным значением внутри\n",
    "Упражнение 10\n",
    "Напишите функцию, которая сортирует строки данной матрицы по значениям заданного столбца в порядке убывания.\n",
    "\n",
    "Упражнение 12\n",
    "Напишите игру life, используя массивы numpy.\n",
    "Визуализируйте интерактивно ее результаты."
   ]
  },
  {
   "cell_type": "code",
   "execution_count": 2,
   "metadata": {},
   "outputs": [],
   "source": [
    "import numpy as np"
   ]
  },
  {
   "cell_type": "markdown",
   "metadata": {},
   "source": [
    "Упражнение 1\n",
    "На одном графике изобразите время затраченное на вычисление с использованием массивов numpy и стандартных списков в питоне.\n",
    "Для более точных результатов замеряйте время выполнения функции несколько раз и усредняйте.\n",
    "\n",
    "Перемножение матриц размера n на n"
   ]
  },
  {
   "cell_type": "code",
   "execution_count": 89,
   "metadata": {},
   "outputs": [
    {
     "data": {
      "text/plain": [
       "<matplotlib.legend.Legend at 0x19007f08f88>"
      ]
     },
     "execution_count": 89,
     "metadata": {},
     "output_type": "execute_result"
    },
    {
     "data": {
      "image/png": "[encoded data removed]",
      "text/plain": [
       "<Figure size 432x288 with 1 Axes>"
      ]
     },
     "metadata": {
      "needs_background": "light"
     },
     "output_type": "display_data"
    }
   ],
   "source": [
    "import time\n",
    "import random\n",
    "import matplotlib.pyplot as plt\n",
    "\n",
    "def python_style(a, b):\n",
    "    \"\"\"\n",
    "    Умножение матрицы на матрицу через списки. Возвращает время выполнения умножения\n",
    "    \n",
    "    Разные исключения и правильность матриц, поданных на вход, не проверялись, так как задача состояла в том, чтобы\n",
    "    посчитать время выполнения программы\n",
    "    \"\"\"\n",
    "    start = time.time()\n",
    "    c = [[0 for i_ in range(len(a))] for j_ in range(len(a))]\n",
    "    for i in range(len(a)):\n",
    "        for j in range(len(a)):\n",
    "            result = 0\n",
    "            for k in range(len(b)):\n",
    "                result += a[i][k] * b[k][j]\n",
    "                c[i][j] = result\n",
    "    end = time.time()\n",
    "    return (end-start)\n",
    "\n",
    "def numpy_style(a, b):\n",
    "    \"\"\"\n",
    "    Умножение матрицы на матрицу с помощью numpy. Возвращает время выполнения умножения\n",
    "    \"\"\"\n",
    "    a, b = np.array(a), np.array(b)\n",
    "    start = time.time()\n",
    "    c = a @ b\n",
    "    end = time.time()\n",
    "    return (end-start)\n",
    "\n",
    "# Списки, где будет храниться время выполнения программы для разных размеров матрицы\n",
    "python_style_list = []\n",
    "numpy_style_list = []\n",
    "\n",
    "# Умножаем матрицы размерности от 2 до 50\n",
    "for n in range(2, 50):\n",
    "#     Среднее время выполнения умножения для заданной размерности\n",
    "    python_style_time = 0\n",
    "    numpy_style_time = 0\n",
    "#     Проводим эксперимент 10 раз\n",
    "    for j in range(10):\n",
    "#         Создаём матрицы\n",
    "        a = [[random.random() * 100 for i in range(n)] for j in range(n)]\n",
    "        b = [[random.random() * 100 for i in range(n)] for j in range(n)]\n",
    "#         Считаем время выполения\n",
    "#         ВНИМАНИЕ!!! Так как время выполнения умножения через numpy очень маленькое, \n",
    "#         то иногда программа просто выводит нуль\n",
    "#         Поэтому здесь времена умножены на коэффициенты, причём для numpy умножения коэффициент в 100 раз больше, \n",
    "#         Значит при построении графика нужно понимать, что фактическое время выполения программ меньше\n",
    "        python_style_time += python_style(a, b) * 1000\n",
    "        numpy_style_time += numpy_style(a, b) * 100000\n",
    "    python_style_list.append(python_style_time / 10)\n",
    "    numpy_style_list.append(numpy_style_time / 10)\n",
    "    \n",
    "# Строим полученные значения\n",
    "# Получили, что не смотря на то, что время выполения numpy умножения в 100 раз увеличено по сравнению с обычным умножением\n",
    "# оно всё равно меньше чем время выполнения обычного умножения\n",
    "plt.plot(range(2, 50), python_style_list, '.', label='Обычное умножение')\n",
    "plt.plot(range(2, 50), numpy_style_list, '-', label='numpy умножение')\n",
    "plt.legend()"
   ]
  },
  {
   "cell_type": "markdown",
   "metadata": {},
   "source": [
    " Упражнение 2\n",
    " \n",
    " Создайте массив чисел от 2 до 75. Выведите только нечётные.\n",
    " \n",
    " Присвойте нечётным числам этого массива значение -1."
   ]
  },
  {
   "cell_type": "code",
   "execution_count": 94,
   "metadata": {},
   "outputs": [
    {
     "name": "stdout",
     "output_type": "stream",
     "text": [
      "[ 3  5  7  9 11 13 15 17 19 21 23 25 27 29 31 33 35 37 39 41 43 45 47 49\n",
      " 51 53 55 57 59 61 63 65 67 69 71 73 75]\n",
      "[ 2 -1  4 -1  6 -1  8 -1 10 -1 12 -1 14 -1 16 -1 18 -1 20 -1 22 -1 24 -1\n",
      " 26 -1 28 -1 30 -1 32 -1 34 -1 36 -1 38 -1 40 -1 42 -1 44 -1 46 -1 48 -1\n",
      " 50 -1 52 -1 54 -1 56 -1 58 -1 60 -1 62 -1 64 -1 66 -1 68 -1 70 -1 72 -1\n",
      " 74 -1]\n"
     ]
    }
   ],
   "source": [
    "a = np.array(range(2, 76))\n",
    "print(a[a % 2 == 1])\n",
    "a[a % 2 == 1] = -1\n",
    "print(a)"
   ]
  },
  {
   "cell_type": "markdown",
   "metadata": {},
   "source": [
    "Упражнение 3\n",
    "\n",
    "Найдите в документации функцию, которая удаляет из одного массива элементы, которые есть в другом.\n",
    "\n",
    "Приведите примеры использования."
   ]
  },
  {
   "cell_type": "code",
   "execution_count": 98,
   "metadata": {},
   "outputs": [
    {
     "name": "stdout",
     "output_type": "stream",
     "text": [
      "[ 2  3  5  6  7  8 10 11 12 13 14 15 17 18 19 20 21 22 23 24 26 27 28 29\n",
      " 30 31 32 33 34 35 37 38 39 40 41 42 43 44 45 46 47 48 50 51 52 53 54 55\n",
      " 56 57 58 59 60 61 62 63 65 66 67 68 69 70 71 72 73 74 75 76 77 78 79 80\n",
      " 82 83 84 85 86 87 88 89 90 91 92 93 94 95 96 97 98 99]\n"
     ]
    }
   ],
   "source": [
    "# Массив а - это все числа от 0 до 100\n",
    "a = np.array(range(101))\n",
    "# Массив b - это квадраты, меньшие 101\n",
    "b = np.array([i*i for i in range(101) if i*i < 101 ])\n",
    "# Убрали из списка чисел 100 все числа, которые являются квадратами\n",
    "print(np.setdiff1d(a, b))"
   ]
  },
  {
   "cell_type": "markdown",
   "metadata": {},
   "source": [
    "Упражнение 4\n",
    "\n",
    "Создайте случайную квадратную матрицу случайного размера от 10 до 100.\n",
    "\n",
    "Найдите максимум и сумму элементов.\n",
    "\n",
    "Поделите каждый элемент матрицы на максимум.\n",
    "\n",
    "Отнимите от каждой строки матрицы среднее по строке.\n",
    "\n",
    "Замените максимальное значение на -1."
   ]
  },
  {
   "cell_type": "code",
   "execution_count": 188,
   "metadata": {},
   "outputs": [
    {
     "name": "stdout",
     "output_type": "stream",
     "text": [
      "Размер случайной матрицы (82, 84) Её первые 4 числа [85 82 19 58]\n",
      "Максимум= 99\n",
      "Сумма= 344701\n"
     ]
    }
   ],
   "source": [
    "# Создайте случайную квадратную матрицу случайного размера от 10 до 100.\n",
    "matrix_random = np.random.randint(100, size=(np.random.randint(10, 100), np.random.randint(10, 100)))\n",
    "print(\"Размер случайной матрицы\", matrix_random.shape, \"Её первые 4 числа\", matrix_random[0, :4])\n",
    "# Найдите максимум и сумму элементов.\n",
    "print(\"Максимум=\", np.max(matrix_random))\n",
    "print(\"Сумма=\", np.sum(matrix_random))\n",
    "# Поделите каждый элемент матрицы на максимум.\n",
    "matrix_random = matrix_random / np.max(matrix_random)\n",
    "# Отнимите от каждой строки матрицы среднее по строке.\n",
    "matrix_random -= np.tile(np.mean(matrix_random, axis=1).reshape(len(matrix_random),-1), (1, len(matrix_random[0])))\n",
    "# Замените максимальное значение на -1.\n",
    "matrix_random[np.where(matrix_random == np.max(matrix_random))] = -1"
   ]
  },
  {
   "cell_type": "markdown",
   "metadata": {},
   "source": [
    "Упражнение 5\n",
    "\n",
    "Напишите функцию, которая берет многомерный вещественный массив с пропущенными значениями (np.nan) и возвращает его копию с заполненными пропусками (заменять средним значением всех элементов массива). Если в массиве одни пропущенные значения, заполните их нулями.\n"
   ]
  },
  {
   "cell_type": "code",
   "execution_count": 301,
   "metadata": {},
   "outputs": [],
   "source": [
    "def replace_Nans(a):\n",
    "#     Проверяем, есть ли в массиве значения не nan\n",
    "    for i in np.unique(a):\n",
    "        if str(i) != \"nan\":\n",
    "            break\n",
    "#     Если дошли до конца цикла, значит весь массив из nan  и просто заполним его нулями\n",
    "    else:\n",
    "        return(np.zeros_like(a))\n",
    "    a[np.isnan(a)] = np.nanmean(a)\n",
    "    return a"
   ]
  },
  {
   "cell_type": "markdown",
   "metadata": {},
   "source": [
    "Упражнение 6\n",
    "\n",
    "Напишите функцию которая нормализирует заданный numpy-массив, так чтобы его значения лежали в интервале $[0, 1]$."
   ]
  },
  {
   "cell_type": "code",
   "execution_count": 311,
   "metadata": {},
   "outputs": [
    {
     "name": "stdout",
     "output_type": "stream",
     "text": [
      "[[ 1  2  3  4  5]\n",
      " [ 6  7  8  9 10]]\n",
      "[[0.         0.11111111 0.22222222 0.33333333 0.44444444]\n",
      " [0.55555556 0.66666667 0.77777778 0.88888889 1.        ]]\n"
     ]
    }
   ],
   "source": [
    "def normalize(a):\n",
    "    return (a - np.min(a)) / (np.max(a) - np.min(a))\n",
    "a = np.array(range(1, 11)).reshape(2, 5)\n",
    "print(a)\n",
    "print(normalize(a))"
   ]
  },
  {
   "cell_type": "markdown",
   "metadata": {},
   "source": [
    "Упражнение 7\n",
    "\n",
    "Запишите numpy-array в файл."
   ]
  },
  {
   "cell_type": "code",
   "execution_count": 272,
   "metadata": {},
   "outputs": [],
   "source": [
    "np.savetxt('test_1.txt', np.array(range(10)))"
   ]
  },
  {
   "cell_type": "markdown",
   "metadata": {},
   "source": [
    "Считайте numpy-array из файла."
   ]
  },
  {
   "cell_type": "code",
   "execution_count": 273,
   "metadata": {
    "scrolled": true
   },
   "outputs": [
    {
     "name": "stdout",
     "output_type": "stream",
     "text": [
      "[0. 1. 2. 3. 4. 5. 6. 7. 8. 9.]\n"
     ]
    }
   ],
   "source": [
    "b = np.loadtxt('test_1.txt')\n",
    "print(b)"
   ]
  },
  {
   "cell_type": "markdown",
   "metadata": {},
   "source": [
    "Упражнение 11\n",
    "\n",
    "Напишите функцию, которая создает двоичную матрицу шахматной доски с заданным shape"
   ]
  },
  {
   "cell_type": "code",
   "execution_count": 335,
   "metadata": {},
   "outputs": [
    {
     "name": "stdout",
     "output_type": "stream",
     "text": [
      "[[1 0 1 0 1 0 1 0]\n",
      " [0 1 0 1 0 1 0 1]\n",
      " [1 0 1 0 1 0 1 0]\n",
      " [0 1 0 1 0 1 0 1]\n",
      " [1 0 1 0 1 0 1 0]\n",
      " [0 1 0 1 0 1 0 1]\n",
      " [1 0 1 0 1 0 1 0]\n",
      " [0 1 0 1 0 1 0 1]]\n"
     ]
    },
    {
     "data": {
      "image/png": "[encoded data removed]",
      "text/plain": [
       "<Figure size 432x288 with 1 Axes>"
      ]
     },
     "metadata": {
      "needs_background": "light"
     },
     "output_type": "display_data"
    }
   ],
   "source": [
    "def chess_desk(n):\n",
    "#     Создаём матрицу соответсвующего размера с нулями\n",
    "    a = np.zeros((n, n), dtype=\"int64\")\n",
    "#     Заполняем её единицами и нулями через один\n",
    "    for i in range(n):\n",
    "        for j in range(n):\n",
    "            if i % 2 == 0:\n",
    "                if j % 2 == 0:\n",
    "                    a[i, j] = 1\n",
    "            else:\n",
    "                if j % 2 == 1:\n",
    "                    a[i, j] = 1\n",
    "#     Сделаем красивую визуализацию\n",
    "    palette = np.array([[0, 0, 0],         # black\n",
    "                        [255, 255, 255]])  # white\n",
    "    plt.imshow(palette[a])\n",
    "    return a\n",
    "\n",
    "print(chess_desk(8))\n"
   ]
  },
  {
   "cell_type": "code",
   "execution_count": null,
   "metadata": {},
   "outputs": [],
   "source": []
  }
 ],
 "metadata": {
  "kernelspec": {
   "display_name": "Python 3",
   "language": "python",
   "name": "python3"
  },
  "language_info": {
   "codemirror_mode": {
    "name": "ipython",
    "version": 3
   },
   "file_extension": ".py",
   "mimetype": "text/x-python",
   "name": "python",
   "nbconvert_exporter": "python",
   "pygments_lexer": "ipython3",
   "version": "3.7.6"
  }
 },
 "nbformat": 4,
 "nbformat_minor": 4
}
